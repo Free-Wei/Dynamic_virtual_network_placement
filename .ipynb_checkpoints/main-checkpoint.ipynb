{
 "cells": [
  {
   "cell_type": "code",
   "execution_count": 1,
   "id": "a1645b7c-0197-4e3b-8056-43f83d6e28f8",
   "metadata": {},
   "outputs": [
    {
     "name": "stderr",
     "output_type": "stream",
     "text": [
      "/home/wei/anaconda3/lib/python3.9/site-packages/scipy/__init__.py:146: UserWarning: A NumPy version >=1.16.5 and <1.23.0 is required for this version of SciPy (detected version 1.26.4\n",
      "  warnings.warn(f\"A NumPy version >={np_minversion} and <{np_maxversion}\"\n"
     ]
    }
   ],
   "source": [
    "import time\n",
    "import numpy as np\n",
    "import matplotlib.pyplot as plt\n",
    "import pandas as pd\n",
    "\n",
    "from effVFP import VNE"
   ]
  },
  {
   "cell_type": "markdown",
   "id": "36166cdf",
   "metadata": {},
   "source": [
    "## Different algorithm - 1"
   ]
  },
  {
   "cell_type": "code",
   "execution_count": 2,
   "id": "84fd8dda",
   "metadata": {},
   "outputs": [],
   "source": [
    "# =============\n",
    "M = 3\n",
    "N = 10\n",
    "k = 2\n",
    "\n",
    "T = N*M*10\n",
    "np.random.seed(30)\n",
    "total_power = np.random.uniform(0.5,1,M*N).reshape(M,N)\n",
    "capacity = np.random.uniform(0,1,M*k*N).reshape(M,N,k)\n",
    "lam = np.random.uniform(0.5,1,M)\n",
    "lam = lam/np.sum(lam)\n",
    "\n",
    "beta = np.ones((N,k))*0.1\n",
    "test_times = 1"
   ]
  },
  {
   "cell_type": "code",
   "execution_count": 3,
   "id": "76d70222",
   "metadata": {},
   "outputs": [],
   "source": [
    "def filtering(y,win):\n",
    "    z = np.convolve(y,np.ones(win))/win\n",
    "    return z[range(win,len(y))]\n",
    "\n",
    "def simulINS_1(T,M,N,k,test_times, folder_path):  \n",
    "    result_test_total = np.zeros((T, test_times))\n",
    "    con_test_total = np.zeros((T, test_times))\n",
    "    running_time = np.zeros(test_times)\n",
    "    res_opt_total = np.zeros(test_times)\n",
    "\n",
    "    result_test_total_acc1 = np.zeros((T, test_times))\n",
    "    con_test_total_acc1 = np.zeros((T, test_times))\n",
    "    running_time_acc1 = np.zeros(test_times)\n",
    "    res_opt_acc1_total = np.zeros(test_times)\n",
    "\n",
    "    for m in range(test_times):\n",
    "\n",
    "        test = VNE(total_power, N, M, T, lam, capacity, beta)\n",
    "\n",
    "        start_time = time.time() \n",
    "        res_total, res_opt, con_total = test.run()\n",
    "        end_time = time.time() \n",
    "        running_time[m] = end_time - start_time\n",
    "\n",
    "        result_test_total[:,m] = res_total\n",
    "        con_test_total[:,m] = con_total\n",
    "\n",
    "\n",
    "        test_acc1 = VNE(total_power, N, M, T, lam, capacity, beta)\n",
    "\n",
    "        start_time = time.time() \n",
    "        res_total_acc1, res_opt_acc1, con_total_acc1 = test_acc1.run_acc1()\n",
    "        end_time = time.time() \n",
    "        running_time_acc1[m] = end_time - start_time\n",
    "\n",
    "        res_opt_acc1_total[m] = res_opt_acc1\n",
    "        result_test_total_acc1[:,m] = res_total_acc1\n",
    "        con_test_total_acc1[:,m] = con_total_acc1\n",
    "\n",
    "    # +++++\n",
    "    data_default = {\n",
    "    'max_result': np.max(result_test_total, axis = 1),\n",
    "    'min_result': np.min(result_test_total, axis = 1),\n",
    "    'mean_result': result_test_total.mean( axis = 1), \n",
    "    'max_con': np.max(con_test_total, axis = 1), \n",
    "    'min_con': np.min(con_test_total, axis = 1),\n",
    "    'mean_con': con_test_total.mean(axis =1),\n",
    "    'mean_running_time': np.mean(running_time),\n",
    "    'max_running_time': np.max(running_time), \n",
    "    'min_running_time': np.min(running_time), \n",
    "    }\n",
    "    df = pd.DataFrame(data_default)\n",
    "    df.to_csv(f'{folder_path}/changed_output_T{T}_{test_times}run_N{N}_M{M}_default.csv', index=False)\n",
    "    \n",
    "    data_acc1 = {\n",
    "    'max_result': np.max(result_test_total_acc1, axis = 1),\n",
    "    'min_result': np.min(result_test_total_acc1, axis = 1),\n",
    "    'mean_result': result_test_total_acc1.mean( axis = 1),\n",
    "    'max_con': np.max(con_test_total_acc1, axis = 1),\n",
    "    'min_con': np.min(con_test_total_acc1, axis = 1),\n",
    "    'mean_con': con_test_total_acc1.mean(axis =1),\n",
    "    'mean_running_time': np.mean(running_time_acc1),\n",
    "    'max_running_time': np.max(running_time_acc1), \n",
    "    'min_running_time': np.min(running_time_acc1), \n",
    "    'max_opt':np.max(res_opt_acc1_total),\n",
    "    'min_opt':np.min(res_opt_acc1_total), \n",
    "    'mean_opt':np.mean(res_opt_acc1_total),\n",
    "    }\n",
    "\n",
    "    df_acc1 = pd.DataFrame(data_acc1)\n",
    "    df_acc1.to_csv(f'{folder_path}/changed_output_T{T}_{test_times}run_N{N}_M{M}_acc1.csv', index=False)\n",
    "    \n",
    "    return result_test_total, con_test_total, running_time, result_test_total_acc1, con_test_total_acc1, running_time_acc1"
   ]
  },
  {
   "cell_type": "code",
   "execution_count": 4,
   "id": "11a5d30c",
   "metadata": {},
   "outputs": [],
   "source": [
    "\n",
    "\n",
    "def plotSIM1(result_test_total, result_test_total_acc1, name, judge=0):\n",
    "    win = 500\n",
    "    fig, ax = plt.subplots(figsize=(10, 6))\n",
    "    x = np.arange(T)\n",
    "    r = range(win,T)\n",
    "\n",
    "    y = filtering(result_test_total.mean( axis = 1), win)\n",
    "    y1 = filtering(result_test_total_acc1.mean( axis = 1), win)\n",
    "\n",
    "    ax.plot(x[r], y, lw=2, label='Base algorithm', color='blue')\n",
    "    ax.fill_between(x[r], \n",
    "                    filtering(np.max(result_test_total, axis = 1), win), \n",
    "                    filtering(np.min(result_test_total, axis = 1), win), facecolor='blue', alpha=0.3)\n",
    "    ax.plot(x[r], y1, lw=2, label='Fast algorithm', color='red')\n",
    "    ax.fill_between(x[r], \n",
    "                    filtering(np.max(result_test_total_acc1, axis = 1), win), \n",
    "                    filtering(np.min(result_test_total_acc1, axis = 1), win), facecolor='red', alpha=0.3)\n",
    "    if judge == 1:\n",
    "        ax.plot(x, np.array(1).repeat(T), lw=2, label='Constraints Limits', color='black')\n",
    "        ax.set_ylabel('Maximum Constraint Vaule')\n",
    "    else:\n",
    "        ax.set_ylabel('Relative Gap')\n",
    "    ax.legend(loc='upper right')\n",
    "    ax.set_xlabel('Iterations')\n",
    "    \n",
    "    ax.set_xlim([0,T])\n",
    "    ax.grid()\n",
    "    plt.savefig(name, format=\"pdf\", bbox_inches=\"tight\")"
   ]
  },
  {
   "cell_type": "code",
   "execution_count": 5,
   "id": "71380599",
   "metadata": {},
   "outputs": [
    {
     "name": "stdout",
     "output_type": "stream",
     "text": [
      "opt 0.564485869830015\n",
      "opt 0.564485869830015\n"
     ]
    }
   ],
   "source": [
    "# running\n",
    "folder_path = \"dataOUTPUT\"\n",
    "result_test_total, con_test_total, running_time, result_test_total_acc1, con_test_total_acc1, running_time_acc1 = simulINS_1(T,M,N,k,\n",
    "                                                                                                                             test_times,folder_path)"
   ]
  },
  {
   "cell_type": "code",
   "execution_count": 8,
   "id": "fa5e42cb",
   "metadata": {},
   "outputs": [
    {
     "data": {
      "image/png": "[encoded data removed]",
      "text/plain": [
       "<Figure size 720x432 with 1 Axes>"
      ]
     },
     "metadata": {
      "needs_background": "light"
     },
     "output_type": "display_data"
    },
    {
     "data": {
      "image/png": "[encoded data removed]",
      "text/plain": [
       "<Figure size 720x432 with 1 Axes>"
      ]
     },
     "metadata": {
      "needs_background": "light"
     },
     "output_type": "display_data"
    }
   ],
   "source": [
    "plotSIM1(result_test_total, result_test_total_acc1, \"img/test_T500000_algos_sub_final.pdf\")\n",
    "plotSIM1(con_test_total, con_test_total_acc1, \"img/test_T500000_algos_sub_constraint_final.pdf\", 1)"
   ]
  },
  {
   "cell_type": "code",
   "execution_count": 7,
   "id": "ebb0f672",
   "metadata": {},
   "outputs": [
    {
     "ename": "NameError",
     "evalue": "name 'AAAAAAAAAAAAAAAAAAAAAA' is not defined",
     "output_type": "error",
     "traceback": [
      "\u001b[0;31m---------------------------------------------------------------------------\u001b[0m",
      "\u001b[0;31mNameError\u001b[0m                                 Traceback (most recent call last)",
      "\u001b[0;32m/tmp/ipykernel_122800/3610557542.py\u001b[0m in \u001b[0;36m<module>\u001b[0;34m\u001b[0m\n\u001b[0;32m----> 1\u001b[0;31m \u001b[0mAAAAAAAAAAAAAAAAAAAAAA\u001b[0m\u001b[0;34m\u001b[0m\u001b[0;34m\u001b[0m\u001b[0m\n\u001b[0m",
      "\u001b[0;31mNameError\u001b[0m: name 'AAAAAAAAAAAAAAAAAAAAAA' is not defined"
     ]
    }
   ],
   "source": [
    "AAAAAAAAAAAAAAAAAAAAAA"
   ]
  },
  {
   "cell_type": "markdown",
   "id": "8b627540",
   "metadata": {},
   "source": [
    "## Different instance - 2"
   ]
  },
  {
   "cell_type": "code",
   "execution_count": null,
   "id": "dadb24c9",
   "metadata": {},
   "outputs": [],
   "source": [
    "def simulINS_2(T,M,N,k,test_times):  \n",
    "    result_test_total_acc1 = np.zeros((T, test_times))\n",
    "    con_test_total_acc1 = np.zeros((T, test_times))\n",
    "    running_time_acc1 = np.zeros(test_times)\n",
    "    res_opt_acc1_total = np.zeros(test_times)\n",
    "    for m in range(test_times):\n",
    "        total_power = np.random.uniform(0.5,1,M*N).reshape(M,N)\n",
    "        capacity = np.random.uniform(0,1,M*k*N).reshape(M,N,k)\n",
    "        lam = np.random.uniform(0.5,1,M)\n",
    "        lam = lam/np.sum(lam)\n",
    "        beta = np.ones((N,k))*0.1\n",
    "        test_acc1 = VNE(total_power, N, M, T, lam, capacity, beta)\n",
    "\n",
    "        start_time = time.time() \n",
    "        res_total_acc1, res_opt_acc1, con_total_acc1 = test_acc1.run_acc1()\n",
    "        end_time = time.time() \n",
    "        running_time_acc1[m] = end_time - start_time\n",
    "        \n",
    "        res_opt_acc1_total[m] = res_opt_acc1\n",
    "        result_test_total_acc1[:,m] = res_total_acc1\n",
    "        con_test_total_acc1[:,m] = con_total_acc1\n",
    "        \n",
    "    return result_test_total_acc1, res_opt_acc1_total, con_test_total_acc1, running_time_acc1"
   ]
  },
  {
   "cell_type": "code",
   "execution_count": null,
   "id": "0e72aafe",
   "metadata": {},
   "outputs": [],
   "source": [
    "M = 5\n",
    "N = 20\n",
    "k = 2# =============\n",
    "M = 3\n",
    "N = 10\n",
    "k = 2\n",
    "\n",
    "T = N*M*1000\n",
    "np.random.seed(30)\n",
    "total_power = np.random.uniform(0.5,1,M*N).reshape(M,N)\n",
    "capacity = np.random.uniform(0,1,M*k*N).reshape(M,N,k)\n",
    "lam = np.random.uniform(0.5,1,M)\n",
    "lam = lam/np.sum(lam)\n",
    "\n",
    "beta = np.ones((N,k))*0.1\n",
    "test_times = 1\n",
    "T = 30000\n",
    "test_times = 2"
   ]
  },
  {
   "cell_type": "code",
   "execution_count": null,
   "id": "b18cab16",
   "metadata": {},
   "outputs": [],
   "source": [
    "res_total_acc1_N10M3, _, con_test_total_N10M3,_ = simulINS(T,3,10,k,test_times)\n",
    "res_total_acc1_N20M5, _, con_test_total_N20M5,_ = simulINS(T,5,20,k,test_times)\n",
    "res_total_acc1_N50M8, _, con_test_total_N50M8,_ = simulINS(T,8,50,k,test_times)\n",
    "res_total_acc1_N100M10, _, con_test_total_N100M10,_ = simulINS(T,10,100,k,test_times)"
   ]
  },
  {
   "cell_type": "code",
   "execution_count": null,
   "id": "e608f8cc",
   "metadata": {},
   "outputs": [],
   "source": [
    "\n",
    "def plotSIM1(res_total_acc1_N10M3, res_total_acc1_N20M5,\n",
    "            res_total_acc1_N50M8, res_total_acc1_N100M10):\n",
    "    win = 15000\n",
    "    fig, ax = plt.subplots(figsize=(10, 6))\n",
    "    x = np.arange(T)\n",
    "    r = range(win,T)\n",
    "\n",
    "    y = filtering(res_total_acc1_N10M3.mean(axis = 1), win)\n",
    "    y1 = filtering(res_total_acc1_N20M5.mean( axis = 1), win)\n",
    "    y2 = filtering(res_total_acc1_N50M8.mean( axis = 1), win)\n",
    "    y3 =filtering(res_total_acc1_N100M10.mean( axis = 1), win)\n",
    "\n",
    "    ax.plot(x[r], y, lw=2, label='K=10,M=3', color='blue')\n",
    "    ax.fill_between(x[r], \n",
    "                    filtering(np.max(res_total_acc1_N10M3, axis = 1), win),\n",
    "                    filtering(np.min(res_total_acc1_N10M3, axis = 1), win), facecolor='blue', alpha=0.3)\n",
    "    \n",
    "    ax.plot(x[r], y1, lw=2, label='K=20,M=5', color='red')\n",
    "    ax.fill_between(x[r], \n",
    "                    filtering(np.max(res_total_acc1_N20M5, axis = 1), win),\n",
    "                    filtering(np.min(res_total_acc1_N20M5, axis = 1), win), facecolor='red', alpha=0.3)\n",
    "    \n",
    "    ax.plot(x[r], y2, lw=2, label='K=50,M=8', color='green')\n",
    "    ax.fill_between(x[r],\n",
    "                    filtering(np.max(res_total_acc1_N50M8, axis = 1), win),\n",
    "                    filtering(np.max(res_total_acc1_N50M8, axis = 1), win), facecolor='green', alpha=0.3)\n",
    "    \n",
    "    ax.plot(x[r], y3, lw=2, label='K=100,M=10', color='black')\n",
    "    ax.fill_between(x[r], \n",
    "                    filtering(np.max(res_total_acc1_N100M10, axis = 1), win),\n",
    "                    filtering(np.max(res_total_acc1_N100M10, axis = 1), win), facecolor='black', alpha=0.1)\n",
    "    #ax.set_title('XXXX')\n",
    "    \n",
    "    ax.legend(loc='upper right')\n",
    "    ax.set_xlabel('Iterations')\n",
    "    ax.set_ylabel('Relative Gap')\n",
    "    #ax.set_ylim([0.5,1.5])\n",
    "    ax.set_xlim([0,T])\n",
    "    ax.grid()\n",
    "    plt.show()"
   ]
  },
  {
   "cell_type": "code",
   "execution_count": null,
   "id": "08137e3c",
   "metadata": {},
   "outputs": [],
   "source": [
    "plotSIM1(res_total_acc1_N10M3, res_total_acc1_N20M5, res_total_acc1_N50M8, res_total_acc1_N100M10)\n"
   ]
  },
  {
   "cell_type": "code",
   "execution_count": null,
   "id": "df0f0740",
   "metadata": {},
   "outputs": [],
   "source": []
  },
  {
   "cell_type": "code",
   "execution_count": null,
   "id": "3d20bb5f",
   "metadata": {},
   "outputs": [],
   "source": [
    "plotSIM1(res_total_acc1_N10M3, res_total_acc1_N20M5, res_total_acc1_N50M8, res_total_acc1_N100M10)"
   ]
  }
 ],
 "metadata": {
  "kernelspec": {
   "display_name": "Python 3 (ipykernel)",
   "language": "python",
   "name": "python3"
  },
  "language_info": {
   "codemirror_mode": {
    "name": "ipython",
    "version": 3
   },
   "file_extension": ".py",
   "mimetype": "text/x-python",
   "name": "python",
   "nbconvert_exporter": "python",
   "pygments_lexer": "ipython3",
   "version": "3.9.7"
  }
 },
 "nbformat": 4,
 "nbformat_minor": 5
}
